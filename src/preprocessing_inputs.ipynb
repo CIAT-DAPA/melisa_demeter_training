{
 "cells": [
  {
   "cell_type": "code",
   "execution_count": 1,
   "id": "7c137f11",
   "metadata": {},
   "outputs": [],
   "source": [
    "# Import dependencies\n",
    "import os\n",
    "import conf as cf\n",
    "import pandas as pd"
   ]
  },
  {
   "cell_type": "markdown",
   "id": "a88f67cc",
   "metadata": {},
   "source": [
    "# MTA Data\n",
    "This data was collected in the first version of the project. \n",
    "The source of this dataset were the MTA in Colombia."
   ]
  },
  {
   "cell_type": "code",
   "execution_count": 5,
   "id": "6e1f0c3f-0579-4b61-8e5b-a4a773e23270",
   "metadata": {},
   "outputs": [
    {
     "name": "stdout",
     "output_type": "stream",
     "text": [
      "Loading data\n",
      "Removing columns\n",
      "Changing columns names\n",
      "Saving outputs\n"
     ]
    }
   ],
   "source": [
    "# Loading data\n",
    "print(\"Loading data\")\n",
    "mta_file_in = os.path.join(cf.path_data_preprocessing,\"survey_mta.csv\")\n",
    "mta_df = pd.read_csv(mta_file_in)\n",
    "print(mta_df.head())\n",
    "\n",
    "# Removing columns\n",
    "print(\"Removing columns\")\n",
    "mta_df.drop(columns=[\"n_words\"],inplace=True)\n",
    "\n",
    "# Changing columns names\n",
    "print(\"Changing columns names\")\n",
    "mta_df.columns = [\"text\",\"intent\"]\n",
    "\n",
    "# Saving outputs\n",
    "print(\"Saving outputs\")\n",
    "mta_file_out = os.path.join(cf.path_data_inputs,\"inputs_mta.csv\")\n",
    "mta_df.to_csv(mta_file_out, index=False)"
   ]
  },
  {
   "cell_type": "markdown",
   "id": "58dc114c",
   "metadata": {},
   "source": [
    "# Database Chats\n",
    "This data have been collected using the chatbot.\n",
    "We got from database directly:\n",
    "\n",
    "mongoexport --db demeter --collection chat --fields _id,user,text,date,intent_id,intent_name,slots,tags --type=csv --out /home/hsotelo/chats.csv"
   ]
  },
  {
   "cell_type": "code",
   "execution_count": 7,
   "id": "11084129",
   "metadata": {},
   "outputs": [
    {
     "name": "stdout",
     "output_type": "stream",
     "text": [
      "Loading data\n",
      "                                  _id                                user  \\\n",
      "0  ObjectId(6193cf76f24b8f01ac2942bd)  ObjectId(6193cf76f24b8f01ac2942bc)   \n",
      "1  ObjectId(6193d377f24b8f01ac2942be)  ObjectId(6193cf76f24b8f01ac2942bc)   \n",
      "2  ObjectId(6193d47ef24b8f01ac2942bf)  ObjectId(6193cf76f24b8f01ac2942bc)   \n",
      "3  ObjectId(6193d5dcf24b8f01ac2942c0)  ObjectId(6193cf76f24b8f01ac2942bc)   \n",
      "4  ObjectId(6193d74bf24b8f01ac2942c1)  ObjectId(6193cf76f24b8f01ac2942bc)   \n",
      "\n",
      "              text                      date  intent_id intent_name  \\\n",
      "0  [object Object]  2021-11-16T15:34:14.289Z        3.0   cultivars   \n",
      "1             Hola  2021-11-16T15:51:19.817Z        6.0          hi   \n",
      "2             Hola  2021-11-16T15:55:42.361Z        6.0          hi   \n",
      "3             Hola  2021-11-16T16:01:32.774Z        6.0          hi   \n",
      "4             Hola  2021-11-16T16:07:39.672Z        6.0          hi   \n",
      "\n",
      "               slots tags  \n",
      "0  {\"AD]\":\"Object]\"}  NaN  \n",
      "1                 {}  NaN  \n",
      "2                 {}  NaN  \n",
      "3                 {}  NaN  \n",
      "4                 {}  NaN  \n",
      "Removing columns\n",
      "Changing columns names\n",
      "Saving outputs\n"
     ]
    }
   ],
   "source": [
    "# Loading data\n",
    "print(\"Loading data\")\n",
    "chats_file_in = os.path.join(cf.path_data_preprocessing,\"chats.csv\")\n",
    "chats_df = pd.read_csv(chats_file_in)\n",
    "print(chats_df.head())\n",
    "\n",
    "# Removing columns\n",
    "print(\"Removing columns\")\n",
    "chats_df = chats_df[[\"text\",\"intent_name\"]]\n",
    "\n",
    "# Changing columns names\n",
    "print(\"Changing columns names\")\n",
    "chats_df.columns = [\"text\",\"intent\"]\n",
    "\n",
    "# Saving outputs\n",
    "print(\"Saving outputs\")\n",
    "chats_file_out = os.path.join(cf.path_data_inputs,\"inputs_chats.csv\")\n",
    "chats_df.to_csv(chats_file_out, index=False)"
   ]
  }
 ],
 "metadata": {
  "kernelspec": {
   "display_name": "Python 3 (ipykernel)",
   "language": "python",
   "name": "python3"
  },
  "language_info": {
   "codemirror_mode": {
    "name": "ipython",
    "version": 3
   },
   "file_extension": ".py",
   "mimetype": "text/x-python",
   "name": "python",
   "nbconvert_exporter": "python",
   "pygments_lexer": "ipython3",
   "version": "3.9.13"
  }
 },
 "nbformat": 4,
 "nbformat_minor": 5
}
